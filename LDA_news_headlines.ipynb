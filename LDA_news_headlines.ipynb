{
 "cells": [
  {
   "cell_type": "code",
   "execution_count": 1,
   "metadata": {},
   "outputs": [],
   "source": [
    "import pandas as pd\n",
    "\n",
    "data = pd.read_csv('abcnews-date-text.csv', error_bad_lines=False);\n",
    "data_text = data[['headline_text']]\n",
    "data_text['index'] = data_text.index\n",
    "documents = data_text"
   ]
  },
  {
   "cell_type": "code",
   "execution_count": 2,
   "metadata": {},
   "outputs": [
    {
     "data": {
      "text/plain": [
       "1226258"
      ]
     },
     "execution_count": 2,
     "metadata": {},
     "output_type": "execute_result"
    }
   ],
   "source": [
    "len(documents)"
   ]
  },
  {
   "cell_type": "code",
   "execution_count": 3,
   "metadata": {},
   "outputs": [
    {
     "data": {
      "text/html": [
       "<div>\n",
       "<style scoped>\n",
       "    .dataframe tbody tr th:only-of-type {\n",
       "        vertical-align: middle;\n",
       "    }\n",
       "\n",
       "    .dataframe tbody tr th {\n",
       "        vertical-align: top;\n",
       "    }\n",
       "\n",
       "    .dataframe thead th {\n",
       "        text-align: right;\n",
       "    }\n",
       "</style>\n",
       "<table border=\"1\" class=\"dataframe\">\n",
       "  <thead>\n",
       "    <tr style=\"text-align: right;\">\n",
       "      <th></th>\n",
       "      <th>headline_text</th>\n",
       "      <th>index</th>\n",
       "    </tr>\n",
       "  </thead>\n",
       "  <tbody>\n",
       "    <tr>\n",
       "      <th>0</th>\n",
       "      <td>aba decides against community broadcasting lic...</td>\n",
       "      <td>0</td>\n",
       "    </tr>\n",
       "    <tr>\n",
       "      <th>1</th>\n",
       "      <td>act fire witnesses must be aware of defamation</td>\n",
       "      <td>1</td>\n",
       "    </tr>\n",
       "    <tr>\n",
       "      <th>2</th>\n",
       "      <td>a g calls for infrastructure protection summit</td>\n",
       "      <td>2</td>\n",
       "    </tr>\n",
       "    <tr>\n",
       "      <th>3</th>\n",
       "      <td>air nz staff in aust strike for pay rise</td>\n",
       "      <td>3</td>\n",
       "    </tr>\n",
       "    <tr>\n",
       "      <th>4</th>\n",
       "      <td>air nz strike to affect australian travellers</td>\n",
       "      <td>4</td>\n",
       "    </tr>\n",
       "  </tbody>\n",
       "</table>\n",
       "</div>"
      ],
      "text/plain": [
       "                                       headline_text  index\n",
       "0  aba decides against community broadcasting lic...      0\n",
       "1     act fire witnesses must be aware of defamation      1\n",
       "2     a g calls for infrastructure protection summit      2\n",
       "3           air nz staff in aust strike for pay rise      3\n",
       "4      air nz strike to affect australian travellers      4"
      ]
     },
     "execution_count": 3,
     "metadata": {},
     "output_type": "execute_result"
    }
   ],
   "source": [
    "documents[:5]"
   ]
  },
  {
   "cell_type": "markdown",
   "metadata": {},
   "source": [
    "### Data Preprocessing"
   ]
  },
  {
   "cell_type": "code",
   "execution_count": 4,
   "metadata": {},
   "outputs": [],
   "source": [
    "import gensim\n",
    "from gensim.utils import simple_preprocess\n",
    "from gensim.parsing.preprocessing import STOPWORDS\n",
    "from nltk.stem import WordNetLemmatizer, SnowballStemmer\n",
    "from nltk.stem.porter import *\n",
    "import numpy as np\n",
    "np.random.seed(2018)"
   ]
  },
  {
   "cell_type": "code",
   "execution_count": 5,
   "metadata": {},
   "outputs": [
    {
     "name": "stderr",
     "output_type": "stream",
     "text": [
      "[nltk_data] Downloading package wordnet to\n",
      "[nltk_data]     C:\\Users\\HP\\AppData\\Roaming\\nltk_data...\n",
      "[nltk_data]   Package wordnet is already up-to-date!\n"
     ]
    },
    {
     "data": {
      "text/plain": [
       "True"
      ]
     },
     "execution_count": 5,
     "metadata": {},
     "output_type": "execute_result"
    }
   ],
   "source": [
    "import nltk\n",
    "nltk.download('wordnet')"
   ]
  },
  {
   "cell_type": "markdown",
   "metadata": {},
   "source": [
    "#### Lemmatize example"
   ]
  },
  {
   "cell_type": "code",
   "execution_count": 6,
   "metadata": {},
   "outputs": [
    {
     "name": "stdout",
     "output_type": "stream",
     "text": [
      "go\n"
     ]
    }
   ],
   "source": [
    "print(WordNetLemmatizer().lemmatize('went', pos='v'))"
   ]
  },
  {
   "cell_type": "markdown",
   "metadata": {},
   "source": [
    "#### Stemmer Example"
   ]
  },
  {
   "cell_type": "code",
   "execution_count": 7,
   "metadata": {},
   "outputs": [
    {
     "data": {
      "text/html": [
       "<div>\n",
       "<style scoped>\n",
       "    .dataframe tbody tr th:only-of-type {\n",
       "        vertical-align: middle;\n",
       "    }\n",
       "\n",
       "    .dataframe tbody tr th {\n",
       "        vertical-align: top;\n",
       "    }\n",
       "\n",
       "    .dataframe thead th {\n",
       "        text-align: right;\n",
       "    }\n",
       "</style>\n",
       "<table border=\"1\" class=\"dataframe\">\n",
       "  <thead>\n",
       "    <tr style=\"text-align: right;\">\n",
       "      <th></th>\n",
       "      <th>original word</th>\n",
       "      <th>stemmed</th>\n",
       "    </tr>\n",
       "  </thead>\n",
       "  <tbody>\n",
       "    <tr>\n",
       "      <th>0</th>\n",
       "      <td>caresses</td>\n",
       "      <td>caress</td>\n",
       "    </tr>\n",
       "    <tr>\n",
       "      <th>1</th>\n",
       "      <td>flies</td>\n",
       "      <td>fli</td>\n",
       "    </tr>\n",
       "    <tr>\n",
       "      <th>2</th>\n",
       "      <td>dies</td>\n",
       "      <td>die</td>\n",
       "    </tr>\n",
       "    <tr>\n",
       "      <th>3</th>\n",
       "      <td>mules</td>\n",
       "      <td>mule</td>\n",
       "    </tr>\n",
       "    <tr>\n",
       "      <th>4</th>\n",
       "      <td>denied</td>\n",
       "      <td>deni</td>\n",
       "    </tr>\n",
       "    <tr>\n",
       "      <th>5</th>\n",
       "      <td>died</td>\n",
       "      <td>die</td>\n",
       "    </tr>\n",
       "    <tr>\n",
       "      <th>6</th>\n",
       "      <td>agreed</td>\n",
       "      <td>agre</td>\n",
       "    </tr>\n",
       "    <tr>\n",
       "      <th>7</th>\n",
       "      <td>owned</td>\n",
       "      <td>own</td>\n",
       "    </tr>\n",
       "    <tr>\n",
       "      <th>8</th>\n",
       "      <td>humbled</td>\n",
       "      <td>humbl</td>\n",
       "    </tr>\n",
       "    <tr>\n",
       "      <th>9</th>\n",
       "      <td>sized</td>\n",
       "      <td>size</td>\n",
       "    </tr>\n",
       "    <tr>\n",
       "      <th>10</th>\n",
       "      <td>meeting</td>\n",
       "      <td>meet</td>\n",
       "    </tr>\n",
       "    <tr>\n",
       "      <th>11</th>\n",
       "      <td>stating</td>\n",
       "      <td>state</td>\n",
       "    </tr>\n",
       "    <tr>\n",
       "      <th>12</th>\n",
       "      <td>siezing</td>\n",
       "      <td>siez</td>\n",
       "    </tr>\n",
       "    <tr>\n",
       "      <th>13</th>\n",
       "      <td>itemization</td>\n",
       "      <td>item</td>\n",
       "    </tr>\n",
       "    <tr>\n",
       "      <th>14</th>\n",
       "      <td>sensational</td>\n",
       "      <td>sensat</td>\n",
       "    </tr>\n",
       "    <tr>\n",
       "      <th>15</th>\n",
       "      <td>traditional</td>\n",
       "      <td>tradit</td>\n",
       "    </tr>\n",
       "    <tr>\n",
       "      <th>16</th>\n",
       "      <td>reference</td>\n",
       "      <td>refer</td>\n",
       "    </tr>\n",
       "    <tr>\n",
       "      <th>17</th>\n",
       "      <td>colonizer</td>\n",
       "      <td>colon</td>\n",
       "    </tr>\n",
       "    <tr>\n",
       "      <th>18</th>\n",
       "      <td>plotted</td>\n",
       "      <td>plot</td>\n",
       "    </tr>\n",
       "  </tbody>\n",
       "</table>\n",
       "</div>"
      ],
      "text/plain": [
       "   original word stemmed\n",
       "0       caresses  caress\n",
       "1          flies     fli\n",
       "2           dies     die\n",
       "3          mules    mule\n",
       "4         denied    deni\n",
       "5           died     die\n",
       "6         agreed    agre\n",
       "7          owned     own\n",
       "8        humbled   humbl\n",
       "9          sized    size\n",
       "10       meeting    meet\n",
       "11       stating   state\n",
       "12       siezing    siez\n",
       "13   itemization    item\n",
       "14   sensational  sensat\n",
       "15   traditional  tradit\n",
       "16     reference   refer\n",
       "17     colonizer   colon\n",
       "18       plotted    plot"
      ]
     },
     "execution_count": 7,
     "metadata": {},
     "output_type": "execute_result"
    }
   ],
   "source": [
    "stemmer = SnowballStemmer('english')\n",
    "original_words = ['caresses', 'flies', 'dies', 'mules', 'denied','died', 'agreed', 'owned', \n",
    "           'humbled', 'sized','meeting', 'stating', 'siezing', 'itemization','sensational', \n",
    "           'traditional', 'reference', 'colonizer','plotted']\n",
    "singles = [stemmer.stem(plural) for plural in original_words]\n",
    "pd.DataFrame(data = {'original word': original_words, 'stemmed': singles})"
   ]
  },
  {
   "cell_type": "code",
   "execution_count": 8,
   "metadata": {},
   "outputs": [],
   "source": [
    "def lemmatize_stemming(text):\n",
    "    return stemmer.stem(WordNetLemmatizer().lemmatize(text, pos='v'))\n",
    "\n",
    "def preprocess(text):\n",
    "    result = []\n",
    "    for token in gensim.utils.simple_preprocess(text):\n",
    "        if token not in gensim.parsing.preprocessing.STOPWORDS and len(token) > 3:\n",
    "            result.append(lemmatize_stemming(token))\n",
    "    return result"
   ]
  },
  {
   "cell_type": "code",
   "execution_count": 9,
   "metadata": {},
   "outputs": [
    {
     "name": "stdout",
     "output_type": "stream",
     "text": [
      "original document: \n",
      "['ratepayers', 'group', 'wants', 'compulsory', 'local', 'govt', 'voting']\n",
      "\n",
      "\n",
      " tokenized and lemmatized document: \n",
      "['ratepay', 'group', 'want', 'compulsori', 'local', 'govt', 'vote']\n"
     ]
    }
   ],
   "source": [
    "doc_sample = documents[documents['index'] == 4310].values[0][0]\n",
    "\n",
    "print('original document: ')\n",
    "words = []\n",
    "for word in doc_sample.split(' '):\n",
    "    words.append(word)\n",
    "print(words)\n",
    "print('\\n\\n tokenized and lemmatized document: ')\n",
    "print(preprocess(doc_sample))"
   ]
  },
  {
   "cell_type": "code",
   "execution_count": 10,
   "metadata": {},
   "outputs": [],
   "source": [
    "processed_docs = documents['headline_text'].map(preprocess)"
   ]
  },
  {
   "cell_type": "code",
   "execution_count": 11,
   "metadata": {},
   "outputs": [
    {
     "data": {
      "text/plain": [
       "0            [decid, communiti, broadcast, licenc]\n",
       "1                               [wit, awar, defam]\n",
       "2           [call, infrastructur, protect, summit]\n",
       "3                      [staff, aust, strike, rise]\n",
       "4             [strike, affect, australian, travel]\n",
       "5               [ambiti, olsson, win, tripl, jump]\n",
       "6           [antic, delight, record, break, barca]\n",
       "7    [aussi, qualifi, stosur, wast, memphi, match]\n",
       "8            [aust, address, secur, council, iraq]\n",
       "9                         [australia, lock, timet]\n",
       "Name: headline_text, dtype: object"
      ]
     },
     "execution_count": 11,
     "metadata": {},
     "output_type": "execute_result"
    }
   ],
   "source": [
    "processed_docs[:10]"
   ]
  },
  {
   "cell_type": "markdown",
   "metadata": {},
   "source": [
    "### Bag of words on the dataset"
   ]
  },
  {
   "cell_type": "code",
   "execution_count": 12,
   "metadata": {},
   "outputs": [],
   "source": [
    "dictionary = gensim.corpora.Dictionary(processed_docs)"
   ]
  },
  {
   "cell_type": "code",
   "execution_count": 13,
   "metadata": {},
   "outputs": [
    {
     "name": "stdout",
     "output_type": "stream",
     "text": [
      "0 broadcast\n",
      "1 communiti\n",
      "2 decid\n",
      "3 licenc\n",
      "4 awar\n",
      "5 defam\n",
      "6 wit\n",
      "7 call\n",
      "8 infrastructur\n",
      "9 protect\n",
      "10 summit\n"
     ]
    }
   ],
   "source": [
    "count = 0\n",
    "for k, v in dictionary.iteritems():\n",
    "    print(k, v)\n",
    "    count += 1\n",
    "    if count > 10:\n",
    "        break"
   ]
  },
  {
   "cell_type": "code",
   "execution_count": 14,
   "metadata": {},
   "outputs": [],
   "source": [
    "dictionary.filter_extremes(no_below=15, no_above=0.5, keep_n=100000)"
   ]
  },
  {
   "cell_type": "code",
   "execution_count": 15,
   "metadata": {},
   "outputs": [
    {
     "data": {
      "text/plain": [
       "[(162, 1), (240, 1), (292, 1), (589, 1), (838, 1), (3570, 1), (3571, 1)]"
      ]
     },
     "execution_count": 15,
     "metadata": {},
     "output_type": "execute_result"
    }
   ],
   "source": [
    "bow_corpus = [dictionary.doc2bow(doc) for doc in processed_docs]\n",
    "bow_corpus[4310]"
   ]
  },
  {
   "cell_type": "code",
   "execution_count": 16,
   "metadata": {},
   "outputs": [
    {
     "name": "stdout",
     "output_type": "stream",
     "text": [
      "Word 162 (\"govt\") appears 1 time.\n",
      "Word 240 (\"group\") appears 1 time.\n",
      "Word 292 (\"vote\") appears 1 time.\n",
      "Word 589 (\"local\") appears 1 time.\n",
      "Word 838 (\"want\") appears 1 time.\n",
      "Word 3570 (\"compulsori\") appears 1 time.\n",
      "Word 3571 (\"ratepay\") appears 1 time.\n"
     ]
    }
   ],
   "source": [
    "bow_doc_4310 = bow_corpus[4310]\n",
    "\n",
    "for i in range(len(bow_doc_4310)):\n",
    "    print(\"Word {} (\\\"{}\\\") appears {} time.\".format(bow_doc_4310[i][0], \n",
    "                                                     dictionary[bow_doc_4310[i][0]], \n",
    "                                                     bow_doc_4310[i][1]))"
   ]
  },
  {
   "cell_type": "markdown",
   "metadata": {},
   "source": [
    "### TF-IDF"
   ]
  },
  {
   "cell_type": "code",
   "execution_count": 17,
   "metadata": {},
   "outputs": [],
   "source": [
    "from gensim import corpora, models\n",
    "\n",
    "tfidf = models.TfidfModel(bow_corpus)"
   ]
  },
  {
   "cell_type": "code",
   "execution_count": 18,
   "metadata": {},
   "outputs": [],
   "source": [
    "corpus_tfidf = tfidf[bow_corpus]"
   ]
  },
  {
   "cell_type": "code",
   "execution_count": 19,
   "metadata": {},
   "outputs": [
    {
     "name": "stdout",
     "output_type": "stream",
     "text": [
      "[(0, 0.5842699484464488),\n",
      " (1, 0.38798859072167835),\n",
      " (2, 0.5008422243250992),\n",
      " (3, 0.5071987254965034)]\n"
     ]
    }
   ],
   "source": [
    "from pprint import pprint\n",
    "\n",
    "for doc in corpus_tfidf:\n",
    "    pprint(doc)\n",
    "    break"
   ]
  },
  {
   "cell_type": "markdown",
   "metadata": {},
   "source": [
    "### Running LDA using Bag of Words"
   ]
  },
  {
   "cell_type": "code",
   "execution_count": 20,
   "metadata": {},
   "outputs": [],
   "source": [
    "lda_model = gensim.models.LdaMulticore(bow_corpus, num_topics=10, id2word=dictionary, passes=2, workers=2)"
   ]
  },
  {
   "cell_type": "code",
   "execution_count": 21,
   "metadata": {},
   "outputs": [
    {
     "name": "stdout",
     "output_type": "stream",
     "text": [
      "Topic: 0 \n",
      "Words: 0.041*\"polic\" + 0.026*\"death\" + 0.026*\"case\" + 0.026*\"charg\" + 0.025*\"court\" + 0.021*\"murder\" + 0.017*\"woman\" + 0.017*\"face\" + 0.015*\"alleg\" + 0.013*\"shoot\"\n",
      "Topic: 1 \n",
      "Words: 0.047*\"trump\" + 0.025*\"world\" + 0.020*\"open\" + 0.016*\"island\" + 0.013*\"win\" + 0.013*\"return\" + 0.012*\"lose\" + 0.012*\"street\" + 0.011*\"sydney\" + 0.010*\"beach\"\n",
      "Topic: 2 \n",
      "Words: 0.040*\"coronavirus\" + 0.033*\"victoria\" + 0.025*\"live\" + 0.021*\"nation\" + 0.017*\"restrict\" + 0.014*\"water\" + 0.013*\"life\" + 0.011*\"plan\" + 0.011*\"covid\" + 0.010*\"park\"\n",
      "Topic: 3 \n",
      "Words: 0.040*\"queensland\" + 0.026*\"sydney\" + 0.021*\"bushfir\" + 0.020*\"crash\" + 0.019*\"adelaid\" + 0.018*\"die\" + 0.015*\"perth\" + 0.015*\"final\" + 0.014*\"miss\" + 0.011*\"break\"\n",
      "Topic: 4 \n",
      "Words: 0.034*\"year\" + 0.020*\"famili\" + 0.019*\"canberra\" + 0.018*\"melbourn\" + 0.018*\"tasmania\" + 0.015*\"jail\" + 0.015*\"australian\" + 0.013*\"work\" + 0.013*\"high\" + 0.012*\"tasmanian\"\n",
      "Topic: 5 \n",
      "Words: 0.030*\"govern\" + 0.020*\"health\" + 0.018*\"state\" + 0.015*\"school\" + 0.014*\"help\" + 0.013*\"indigen\" + 0.012*\"communiti\" + 0.012*\"fund\" + 0.012*\"fight\" + 0.011*\"speak\"\n",
      "Topic: 6 \n",
      "Words: 0.042*\"australia\" + 0.035*\"australian\" + 0.033*\"elect\" + 0.025*\"donald\" + 0.023*\"kill\" + 0.020*\"coast\" + 0.017*\"border\" + 0.013*\"protest\" + 0.012*\"gold\" + 0.012*\"attack\"\n",
      "Topic: 7 \n",
      "Words: 0.025*\"news\" + 0.023*\"hous\" + 0.017*\"brisban\" + 0.017*\"busi\" + 0.017*\"peopl\" + 0.016*\"farmer\" + 0.015*\"time\" + 0.014*\"royal\" + 0.014*\"market\" + 0.013*\"west\"\n",
      "Topic: 8 \n",
      "Words: 0.040*\"covid\" + 0.037*\"coronavirus\" + 0.035*\"australia\" + 0.031*\"china\" + 0.026*\"test\" + 0.021*\"chang\" + 0.011*\"climat\" + 0.011*\"train\" + 0.009*\"cricket\" + 0.009*\"like\"\n",
      "Topic: 9 \n",
      "Words: 0.022*\"call\" + 0.018*\"rise\" + 0.018*\"victorian\" + 0.015*\"morrison\" + 0.015*\"scott\" + 0.014*\"claim\" + 0.013*\"farm\" + 0.013*\"budget\" + 0.012*\"vaccin\" + 0.011*\"reveal\"\n"
     ]
    }
   ],
   "source": [
    "for idx, topic in lda_model.print_topics(-1):\n",
    "    print('Topic: {} \\nWords: {}'.format(idx, topic))"
   ]
  },
  {
   "cell_type": "markdown",
   "metadata": {},
   "source": [
    "Cool! Can you distinguish different topics using the words in each topic and their corresponding weights?"
   ]
  },
  {
   "cell_type": "markdown",
   "metadata": {},
   "source": [
    "### Running LDA using TF-IDF"
   ]
  },
  {
   "cell_type": "code",
   "execution_count": 22,
   "metadata": {},
   "outputs": [],
   "source": [
    "lda_model_tfidf = gensim.models.LdaMulticore(corpus_tfidf, num_topics=10, id2word=dictionary, passes=2, workers=4)"
   ]
  },
  {
   "cell_type": "code",
   "execution_count": 23,
   "metadata": {},
   "outputs": [
    {
     "name": "stdout",
     "output_type": "stream",
     "text": [
      "Topic: 0 Word: 0.022*\"coronavirus\" + 0.017*\"covid\" + 0.010*\"victoria\" + 0.008*\"weather\" + 0.008*\"bushfir\" + 0.007*\"andrew\" + 0.007*\"flood\" + 0.007*\"michael\" + 0.006*\"age\" + 0.006*\"pandem\"\n",
      "Topic: 1 Word: 0.015*\"govern\" + 0.009*\"queensland\" + 0.008*\"coronavirus\" + 0.007*\"victorian\" + 0.007*\"feder\" + 0.007*\"financ\" + 0.006*\"budget\" + 0.006*\"peter\" + 0.006*\"elect\" + 0.005*\"restrict\"\n",
      "Topic: 2 Word: 0.015*\"australia\" + 0.009*\"sport\" + 0.009*\"test\" + 0.007*\"cricket\" + 0.007*\"gold\" + 0.007*\"india\" + 0.007*\"game\" + 0.006*\"territori\" + 0.005*\"fiji\" + 0.005*\"tasmania\"\n",
      "Topic: 3 Word: 0.013*\"border\" + 0.009*\"violenc\" + 0.009*\"juli\" + 0.008*\"alan\" + 0.007*\"domest\" + 0.007*\"inquest\" + 0.006*\"onlin\" + 0.005*\"polic\" + 0.005*\"fish\" + 0.005*\"coronavirus\"\n",
      "Topic: 4 Word: 0.016*\"crash\" + 0.011*\"christma\" + 0.010*\"climat\" + 0.008*\"fatal\" + 0.008*\"david\" + 0.007*\"korea\" + 0.007*\"north\" + 0.007*\"die\" + 0.007*\"truck\" + 0.007*\"video\"\n",
      "Topic: 5 Word: 0.008*\"turnbul\" + 0.007*\"biden\" + 0.006*\"septemb\" + 0.006*\"hong\" + 0.006*\"kong\" + 0.006*\"footag\" + 0.005*\"paul\" + 0.005*\"protest\" + 0.005*\"toni\" + 0.005*\"malcolm\"\n",
      "Topic: 6 Word: 0.014*\"countri\" + 0.012*\"health\" + 0.010*\"hour\" + 0.009*\"royal\" + 0.009*\"morrison\" + 0.009*\"commiss\" + 0.008*\"rural\" + 0.008*\"stori\" + 0.007*\"indigen\" + 0.006*\"mental\"\n",
      "Topic: 7 Word: 0.011*\"final\" + 0.009*\"scott\" + 0.008*\"leagu\" + 0.008*\"wednesday\" + 0.007*\"world\" + 0.007*\"open\" + 0.006*\"australian\" + 0.006*\"rugbi\" + 0.005*\"grand\" + 0.005*\"georg\"\n",
      "Topic: 8 Word: 0.023*\"trump\" + 0.015*\"charg\" + 0.015*\"polic\" + 0.014*\"murder\" + 0.014*\"donald\" + 0.011*\"court\" + 0.011*\"woman\" + 0.010*\"alleg\" + 0.009*\"jail\" + 0.009*\"death\"\n",
      "Topic: 9 Word: 0.020*\"news\" + 0.017*\"market\" + 0.012*\"drum\" + 0.012*\"coronavirus\" + 0.009*\"price\" + 0.009*\"covid\" + 0.008*\"friday\" + 0.008*\"monday\" + 0.008*\"tuesday\" + 0.007*\"thursday\"\n"
     ]
    }
   ],
   "source": [
    "for idx, topic in lda_model_tfidf.print_topics(-1):\n",
    "    print('Topic: {} Word: {}'.format(idx, topic))"
   ]
  },
  {
   "cell_type": "markdown",
   "metadata": {},
   "source": [
    "### Classification of the topics"
   ]
  },
  {
   "cell_type": "markdown",
   "metadata": {},
   "source": [
    "### Performance evaluation by classifying sample document using LDA Bag of Words model"
   ]
  },
  {
   "cell_type": "code",
   "execution_count": 24,
   "metadata": {},
   "outputs": [
    {
     "data": {
      "text/plain": [
       "['ratepay', 'group', 'want', 'compulsori', 'local', 'govt', 'vote']"
      ]
     },
     "execution_count": 24,
     "metadata": {},
     "output_type": "execute_result"
    }
   ],
   "source": [
    "processed_docs[4310]"
   ]
  },
  {
   "cell_type": "code",
   "execution_count": 25,
   "metadata": {},
   "outputs": [
    {
     "name": "stdout",
     "output_type": "stream",
     "text": [
      "\n",
      "Score: 0.6418790221214294\t \n",
      "Topic: 0.030*\"govern\" + 0.020*\"health\" + 0.018*\"state\" + 0.015*\"school\" + 0.014*\"help\" + 0.013*\"indigen\" + 0.012*\"communiti\" + 0.012*\"fund\" + 0.012*\"fight\" + 0.011*\"speak\"\n",
      "\n",
      "Score: 0.14101597666740417\t \n",
      "Topic: 0.034*\"year\" + 0.020*\"famili\" + 0.019*\"canberra\" + 0.018*\"melbourn\" + 0.018*\"tasmania\" + 0.015*\"jail\" + 0.015*\"australian\" + 0.013*\"work\" + 0.013*\"high\" + 0.012*\"tasmanian\"\n",
      "\n",
      "Score: 0.1295207291841507\t \n",
      "Topic: 0.042*\"australia\" + 0.035*\"australian\" + 0.033*\"elect\" + 0.025*\"donald\" + 0.023*\"kill\" + 0.020*\"coast\" + 0.017*\"border\" + 0.013*\"protest\" + 0.012*\"gold\" + 0.012*\"attack\"\n",
      "\n",
      "Score: 0.012513394467532635\t \n",
      "Topic: 0.040*\"coronavirus\" + 0.033*\"victoria\" + 0.025*\"live\" + 0.021*\"nation\" + 0.017*\"restrict\" + 0.014*\"water\" + 0.013*\"life\" + 0.011*\"plan\" + 0.011*\"covid\" + 0.010*\"park\"\n",
      "\n",
      "Score: 0.012512884102761745\t \n",
      "Topic: 0.025*\"news\" + 0.023*\"hous\" + 0.017*\"brisban\" + 0.017*\"busi\" + 0.017*\"peopl\" + 0.016*\"farmer\" + 0.015*\"time\" + 0.014*\"royal\" + 0.014*\"market\" + 0.013*\"west\"\n",
      "\n",
      "Score: 0.012512137182056904\t \n",
      "Topic: 0.022*\"call\" + 0.018*\"rise\" + 0.018*\"victorian\" + 0.015*\"morrison\" + 0.015*\"scott\" + 0.014*\"claim\" + 0.013*\"farm\" + 0.013*\"budget\" + 0.012*\"vaccin\" + 0.011*\"reveal\"\n",
      "\n",
      "Score: 0.012511703185737133\t \n",
      "Topic: 0.040*\"covid\" + 0.037*\"coronavirus\" + 0.035*\"australia\" + 0.031*\"china\" + 0.026*\"test\" + 0.021*\"chang\" + 0.011*\"climat\" + 0.011*\"train\" + 0.009*\"cricket\" + 0.009*\"like\"\n",
      "\n",
      "Score: 0.012511525303125381\t \n",
      "Topic: 0.041*\"polic\" + 0.026*\"death\" + 0.026*\"case\" + 0.026*\"charg\" + 0.025*\"court\" + 0.021*\"murder\" + 0.017*\"woman\" + 0.017*\"face\" + 0.015*\"alleg\" + 0.013*\"shoot\"\n",
      "\n",
      "Score: 0.012511326000094414\t \n",
      "Topic: 0.047*\"trump\" + 0.025*\"world\" + 0.020*\"open\" + 0.016*\"island\" + 0.013*\"win\" + 0.013*\"return\" + 0.012*\"lose\" + 0.012*\"street\" + 0.011*\"sydney\" + 0.010*\"beach\"\n",
      "\n",
      "Score: 0.012511326000094414\t \n",
      "Topic: 0.040*\"queensland\" + 0.026*\"sydney\" + 0.021*\"bushfir\" + 0.020*\"crash\" + 0.019*\"adelaid\" + 0.018*\"die\" + 0.015*\"perth\" + 0.015*\"final\" + 0.014*\"miss\" + 0.011*\"break\"\n"
     ]
    }
   ],
   "source": [
    "for index, score in sorted(lda_model[bow_corpus[4310]], key=lambda tup: -1*tup[1]):\n",
    "    print(\"\\nScore: {}\\t \\nTopic: {}\".format(score, lda_model.print_topic(index, 10)))"
   ]
  },
  {
   "cell_type": "markdown",
   "metadata": {},
   "source": [
    "Our test document has the highest probability to be part of the topic on the top."
   ]
  },
  {
   "cell_type": "markdown",
   "metadata": {},
   "source": [
    "### Performance evaluation by classifying sample document using LDA TF-IDF model"
   ]
  },
  {
   "cell_type": "code",
   "execution_count": 26,
   "metadata": {},
   "outputs": [
    {
     "name": "stdout",
     "output_type": "stream",
     "text": [
      "\n",
      "Score: 0.7461456060409546\t \n",
      "Topic: 0.015*\"govern\" + 0.009*\"queensland\" + 0.008*\"coronavirus\" + 0.007*\"victorian\" + 0.007*\"feder\" + 0.007*\"financ\" + 0.006*\"budget\" + 0.006*\"peter\" + 0.006*\"elect\" + 0.005*\"restrict\"\n",
      "\n",
      "Score: 0.1537887006998062\t \n",
      "Topic: 0.011*\"final\" + 0.009*\"scott\" + 0.008*\"leagu\" + 0.008*\"wednesday\" + 0.007*\"world\" + 0.007*\"open\" + 0.006*\"australian\" + 0.006*\"rugbi\" + 0.005*\"grand\" + 0.005*\"georg\"\n",
      "\n",
      "Score: 0.012511026114225388\t \n",
      "Topic: 0.014*\"countri\" + 0.012*\"health\" + 0.010*\"hour\" + 0.009*\"royal\" + 0.009*\"morrison\" + 0.009*\"commiss\" + 0.008*\"rural\" + 0.008*\"stori\" + 0.007*\"indigen\" + 0.006*\"mental\"\n",
      "\n",
      "Score: 0.012508395127952099\t \n",
      "Topic: 0.008*\"turnbul\" + 0.007*\"biden\" + 0.006*\"septemb\" + 0.006*\"hong\" + 0.006*\"kong\" + 0.006*\"footag\" + 0.005*\"paul\" + 0.005*\"protest\" + 0.005*\"toni\" + 0.005*\"malcolm\"\n",
      "\n",
      "Score: 0.012508243322372437\t \n",
      "Topic: 0.013*\"border\" + 0.009*\"violenc\" + 0.009*\"juli\" + 0.008*\"alan\" + 0.007*\"domest\" + 0.007*\"inquest\" + 0.006*\"onlin\" + 0.005*\"polic\" + 0.005*\"fish\" + 0.005*\"coronavirus\"\n",
      "\n",
      "Score: 0.012508241459727287\t \n",
      "Topic: 0.022*\"coronavirus\" + 0.017*\"covid\" + 0.010*\"victoria\" + 0.008*\"weather\" + 0.008*\"bushfir\" + 0.007*\"andrew\" + 0.007*\"flood\" + 0.007*\"michael\" + 0.006*\"age\" + 0.006*\"pandem\"\n",
      "\n",
      "Score: 0.01250810269266367\t \n",
      "Topic: 0.020*\"news\" + 0.017*\"market\" + 0.012*\"drum\" + 0.012*\"coronavirus\" + 0.009*\"price\" + 0.009*\"covid\" + 0.008*\"friday\" + 0.008*\"monday\" + 0.008*\"tuesday\" + 0.007*\"thursday\"\n",
      "\n",
      "Score: 0.012507638894021511\t \n",
      "Topic: 0.015*\"australia\" + 0.009*\"sport\" + 0.009*\"test\" + 0.007*\"cricket\" + 0.007*\"gold\" + 0.007*\"india\" + 0.007*\"game\" + 0.006*\"territori\" + 0.005*\"fiji\" + 0.005*\"tasmania\"\n",
      "\n",
      "Score: 0.012507067061960697\t \n",
      "Topic: 0.016*\"crash\" + 0.011*\"christma\" + 0.010*\"climat\" + 0.008*\"fatal\" + 0.008*\"david\" + 0.007*\"korea\" + 0.007*\"north\" + 0.007*\"die\" + 0.007*\"truck\" + 0.007*\"video\"\n",
      "\n",
      "Score: 0.012506995350122452\t \n",
      "Topic: 0.023*\"trump\" + 0.015*\"charg\" + 0.015*\"polic\" + 0.014*\"murder\" + 0.014*\"donald\" + 0.011*\"court\" + 0.011*\"woman\" + 0.010*\"alleg\" + 0.009*\"jail\" + 0.009*\"death\"\n"
     ]
    }
   ],
   "source": [
    "for index, score in sorted(lda_model_tfidf[bow_corpus[4310]], key=lambda tup: -1*tup[1]):\n",
    "    print(\"\\nScore: {}\\t \\nTopic: {}\".format(score, lda_model_tfidf.print_topic(index, 10)))"
   ]
  },
  {
   "cell_type": "markdown",
   "metadata": {},
   "source": [
    "Our test document has the highest probability to be part of the topic on the top."
   ]
  },
  {
   "cell_type": "markdown",
   "metadata": {},
   "source": [
    "### Testing model on unseen document"
   ]
  },
  {
   "cell_type": "code",
   "execution_count": 27,
   "metadata": {},
   "outputs": [
    {
     "name": "stdout",
     "output_type": "stream",
     "text": [
      "Score: 0.3277435898780823\t Topic: 0.042*\"australia\" + 0.035*\"australian\" + 0.033*\"elect\" + 0.025*\"donald\" + 0.023*\"kill\"\n",
      "Score: 0.2055833637714386\t Topic: 0.025*\"news\" + 0.023*\"hous\" + 0.017*\"brisban\" + 0.017*\"busi\" + 0.017*\"peopl\"\n",
      "Score: 0.18335017561912537\t Topic: 0.034*\"year\" + 0.020*\"famili\" + 0.019*\"canberra\" + 0.018*\"melbourn\" + 0.018*\"tasmania\"\n",
      "Score: 0.18326352536678314\t Topic: 0.041*\"polic\" + 0.026*\"death\" + 0.026*\"case\" + 0.026*\"charg\" + 0.025*\"court\"\n",
      "Score: 0.01667826808989048\t Topic: 0.040*\"covid\" + 0.037*\"coronavirus\" + 0.035*\"australia\" + 0.031*\"china\" + 0.026*\"test\"\n",
      "Score: 0.016676699742674828\t Topic: 0.047*\"trump\" + 0.025*\"world\" + 0.020*\"open\" + 0.016*\"island\" + 0.013*\"win\"\n",
      "Score: 0.01667666807770729\t Topic: 0.030*\"govern\" + 0.020*\"health\" + 0.018*\"state\" + 0.015*\"school\" + 0.014*\"help\"\n",
      "Score: 0.016676297411322594\t Topic: 0.022*\"call\" + 0.018*\"rise\" + 0.018*\"victorian\" + 0.015*\"morrison\" + 0.015*\"scott\"\n",
      "Score: 0.016676098108291626\t Topic: 0.040*\"coronavirus\" + 0.033*\"victoria\" + 0.025*\"live\" + 0.021*\"nation\" + 0.017*\"restrict\"\n",
      "Score: 0.016675276681780815\t Topic: 0.040*\"queensland\" + 0.026*\"sydney\" + 0.021*\"bushfir\" + 0.020*\"crash\" + 0.019*\"adelaid\"\n"
     ]
    }
   ],
   "source": [
    "unseen_document = 'How a Pentagon deal became an identity crisis for Google'\n",
    "bow_vector = dictionary.doc2bow(preprocess(unseen_document))\n",
    "\n",
    "for index, score in sorted(lda_model[bow_vector], key=lambda tup: -1*tup[1]):\n",
    "    print(\"Score: {}\\t Topic: {}\".format(score, lda_model.print_topic(index, 5)))"
   ]
  },
  {
   "cell_type": "code",
   "execution_count": null,
   "metadata": {},
   "outputs": [],
   "source": []
  }
 ],
 "metadata": {
  "kernelspec": {
   "display_name": "Python 3",
   "language": "python",
   "name": "python3"
  },
  "language_info": {
   "codemirror_mode": {
    "name": "ipython",
    "version": 3
   },
   "file_extension": ".py",
   "mimetype": "text/x-python",
   "name": "python",
   "nbconvert_exporter": "python",
   "pygments_lexer": "ipython3",
   "version": "3.8.5"
  }
 },
 "nbformat": 4,
 "nbformat_minor": 2
}
